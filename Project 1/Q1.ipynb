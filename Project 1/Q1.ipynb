{
 "cells": [
  {
   "cell_type": "code",
   "execution_count": 128,
   "metadata": {},
   "outputs": [],
   "source": [
    "import numpy as np # linear algebra\n",
    "import pandas as pd # data processing, CSV file I/O (e.g. pd.read_csv)\n",
    "#from sklearn import decomposition, datasets\n",
    "\n",
    "import matplotlib.pyplot as plt\n",
    "from sklearn.preprocessing import StandardScaler"
   ]
  },
  {
   "cell_type": "code",
   "execution_count": 129,
   "metadata": {},
   "outputs": [],
   "source": [
    "df = pd.read_csv(\"C:/Users/DELL/Desktop/DM/dist1_500_1.txt\",header= None,sep = \" \")\n",
    "df1 = pd.read_csv(\"C:/Users/DELL/Desktop/DM/dist1_500_2.txt\",header= None,sep = \" \")\n",
    "df2 = pd.read_csv(\"C:/Users/DELL/Desktop/DM/dist2_500_1.txt\",header= None,sep = \" \")\n",
    "df3 = pd.read_csv(\"C:/Users/DELL/Desktop/DM/dist2_500_2.txt\",header= None,sep = \" \")\n"
   ]
  },
  {
   "cell_type": "code",
   "execution_count": 130,
   "metadata": {},
   "outputs": [],
   "source": [
    "dataset1=df.append(df1)\n",
    "dataset2=df1.append(df2)\n",
    "clean_1=dataset1.dropna(axis='index')\n",
    "clean_2=dataset2.dropna(axis='index')\n",
    "X=clean_1.sample(10)\n",
    "Y=clean_2.sample(10)"
   ]
  },
  {
   "cell_type": "code",
   "execution_count": 131,
   "metadata": {},
   "outputs": [
    {
     "data": {
      "text/plain": [
       "(10, 100)"
      ]
     },
     "execution_count": 131,
     "metadata": {},
     "output_type": "execute_result"
    }
   ],
   "source": [
    "X.shape"
   ]
  },
  {
   "cell_type": "code",
   "execution_count": 132,
   "metadata": {},
   "outputs": [
    {
     "data": {
      "text/plain": [
       "(10, 100)"
      ]
     },
     "execution_count": 132,
     "metadata": {},
     "output_type": "execute_result"
    }
   ],
   "source": [
    "Y.shape"
   ]
  },
  {
   "cell_type": "code",
   "execution_count": 133,
   "metadata": {},
   "outputs": [
    {
     "name": "stdout",
     "output_type": "stream",
     "text": [
      "consecutive min and max values of 1st dataset for each sample:\n"
     ]
    },
    {
     "data": {
      "text/plain": [
       "[[2.8249, 264.47],\n",
       " [2.5124, 91.95200000000001],\n",
       " [2.8202, 260.5],\n",
       " [0.69226, 210.53],\n",
       " [2.0823, 183.19],\n",
       " [0.31656, 200.65],\n",
       " [1.4891, 148.72],\n",
       " [5.3418, 212.48],\n",
       " [5.1806, 172.08],\n",
       " [1.1581, 350.23]]"
      ]
     },
     "execution_count": 133,
     "metadata": {},
     "output_type": "execute_result"
    }
   ],
   "source": [
    "min_max_X=[]\n",
    "for i in range(len(X)):\n",
    "    min_max_X.append([np.min(X.iloc[i]), np.max(X.iloc[i])])\n",
    "print(\"consecutive min and max values of 1st dataset for each sample:\")\n",
    "min_max_X"
   ]
  },
  {
   "cell_type": "code",
   "execution_count": 134,
   "metadata": {},
   "outputs": [
    {
     "data": {
      "text/plain": [
       "(array([11., 11.,  4., 12., 14., 11., 12., 10.,  4., 11.]),\n",
       " array([  2.8249 ,  28.98941,  55.15392,  81.31843, 107.48294, 133.64745,\n",
       "        159.81196, 185.97647, 212.14098, 238.30549, 264.47   ]),\n",
       " <a list of 10 Patch objects>)"
      ]
     },
     "execution_count": 134,
     "metadata": {},
     "output_type": "execute_result"
    },
    {
     "data": {
      "image/png": "[encoded data removed]",
      "text/plain": [
       "<Figure size 432x288 with 1 Axes>"
      ]
     },
     "metadata": {
      "needs_background": "light"
     },
     "output_type": "display_data"
    }
   ],
   "source": [
    "plt.hist(X.iloc[0])"
   ]
  },
  {
   "cell_type": "code",
   "execution_count": 135,
   "metadata": {},
   "outputs": [
    {
     "data": {
      "text/plain": [
       "(array([14., 11.,  6., 15.,  7., 12., 11., 12.,  7.,  5.]),\n",
       " array([ 2.5124 , 11.45636, 20.40032, 29.34428, 38.28824, 47.2322 ,\n",
       "        56.17616, 65.12012, 74.06408, 83.00804, 91.952  ]),\n",
       " <a list of 10 Patch objects>)"
      ]
     },
     "execution_count": 135,
     "metadata": {},
     "output_type": "execute_result"
    },
    {
     "data": {
      "image/png": "[encoded data removed]",
      "text/plain": [
       "<Figure size 432x288 with 1 Axes>"
      ]
     },
     "metadata": {
      "needs_background": "light"
     },
     "output_type": "display_data"
    }
   ],
   "source": [
    "plt.hist(X.iloc[1])"
   ]
  },
  {
   "cell_type": "code",
   "execution_count": 136,
   "metadata": {},
   "outputs": [
    {
     "data": {
      "text/plain": [
       "(array([ 7., 11.,  9.,  8.,  9.,  8., 14.,  6., 15., 13.]),\n",
       " array([  2.8202 ,  28.58818,  54.35616,  80.12414, 105.89212, 131.6601 ,\n",
       "        157.42808, 183.19606, 208.96404, 234.73202, 260.5    ]),\n",
       " <a list of 10 Patch objects>)"
      ]
     },
     "execution_count": 136,
     "metadata": {},
     "output_type": "execute_result"
    },
    {
     "data": {
      "image/png": "[encoded data removed]",
      "text/plain": [
       "<Figure size 432x288 with 1 Axes>"
      ]
     },
     "metadata": {
      "needs_background": "light"
     },
     "output_type": "display_data"
    }
   ],
   "source": [
    "plt.hist(X.iloc[2])"
   ]
  },
  {
   "cell_type": "code",
   "execution_count": 137,
   "metadata": {},
   "outputs": [
    {
     "data": {
      "text/plain": [
       "(array([16., 13.,  6.,  4.,  9., 10., 15.,  9.,  3., 15.]),\n",
       " array([  0.69226 ,  21.676034,  42.659808,  63.643582,  84.627356,\n",
       "        105.61113 , 126.594904, 147.578678, 168.562452, 189.546226,\n",
       "        210.53    ]),\n",
       " <a list of 10 Patch objects>)"
      ]
     },
     "execution_count": 137,
     "metadata": {},
     "output_type": "execute_result"
    },
    {
     "data": {
      "image/png": "[encoded data removed]",
      "text/plain": [
       "<Figure size 432x288 with 1 Axes>"
      ]
     },
     "metadata": {
      "needs_background": "light"
     },
     "output_type": "display_data"
    }
   ],
   "source": [
    "plt.hist(X.iloc[3])"
   ]
  },
  {
   "cell_type": "code",
   "execution_count": 138,
   "metadata": {},
   "outputs": [
    {
     "data": {
      "text/plain": [
       "(array([14., 14., 10.,  9.,  7., 11.,  6., 10., 10.,  9.]),\n",
       " array([  2.0823 ,  20.19307,  38.30384,  56.41461,  74.52538,  92.63615,\n",
       "        110.74692, 128.85769, 146.96846, 165.07923, 183.19   ]),\n",
       " <a list of 10 Patch objects>)"
      ]
     },
     "execution_count": 138,
     "metadata": {},
     "output_type": "execute_result"
    },
    {
     "data": {
      "image/png": "[encoded data removed]",
      "text/plain": [
       "<Figure size 432x288 with 1 Axes>"
      ]
     },
     "metadata": {
      "needs_background": "light"
     },
     "output_type": "display_data"
    }
   ],
   "source": [
    "plt.hist(X.iloc[4])"
   ]
  },
  {
   "cell_type": "code",
   "execution_count": 139,
   "metadata": {},
   "outputs": [
    {
     "data": {
      "text/plain": [
       "(array([ 9., 10.,  8., 11., 11., 10.,  6., 12., 14.,  9.]),\n",
       " array([  0.31656 ,  20.349904,  40.383248,  60.416592,  80.449936,\n",
       "        100.48328 , 120.516624, 140.549968, 160.583312, 180.616656,\n",
       "        200.65    ]),\n",
       " <a list of 10 Patch objects>)"
      ]
     },
     "execution_count": 139,
     "metadata": {},
     "output_type": "execute_result"
    },
    {
     "data": {
      "image/png": "[encoded data removed]",
      "text/plain": [
       "<Figure size 432x288 with 1 Axes>"
      ]
     },
     "metadata": {
      "needs_background": "light"
     },
     "output_type": "display_data"
    }
   ],
   "source": [
    "plt.hist(X.iloc[5])"
   ]
  },
  {
   "cell_type": "code",
   "execution_count": 140,
   "metadata": {},
   "outputs": [
    {
     "data": {
      "text/plain": [
       "(array([ 7., 12.,  7., 10.,  7., 13.,  8., 16.,  4., 16.]),\n",
       " array([  1.4891 ,  16.21219,  30.93528,  45.65837,  60.38146,  75.10455,\n",
       "         89.82764, 104.55073, 119.27382, 133.99691, 148.72   ]),\n",
       " <a list of 10 Patch objects>)"
      ]
     },
     "execution_count": 140,
     "metadata": {},
     "output_type": "execute_result"
    },
    {
     "data": {
      "image/png": "[encoded data removed]",
      "text/plain": [
       "<Figure size 432x288 with 1 Axes>"
      ]
     },
     "metadata": {
      "needs_background": "light"
     },
     "output_type": "display_data"
    }
   ],
   "source": [
    "plt.hist(X.iloc[6])"
   ]
  },
  {
   "cell_type": "code",
   "execution_count": 141,
   "metadata": {},
   "outputs": [
    {
     "data": {
      "text/plain": [
       "(array([11., 11.,  7., 13., 12.,  7.,  9.,  8.,  7., 15.]),\n",
       " array([  5.3418 ,  26.05562,  46.76944,  67.48326,  88.19708, 108.9109 ,\n",
       "        129.62472, 150.33854, 171.05236, 191.76618, 212.48   ]),\n",
       " <a list of 10 Patch objects>)"
      ]
     },
     "execution_count": 141,
     "metadata": {},
     "output_type": "execute_result"
    },
    {
     "data": {
      "image/png": "[encoded data removed]",
      "text/plain": [
       "<Figure size 432x288 with 1 Axes>"
      ]
     },
     "metadata": {
      "needs_background": "light"
     },
     "output_type": "display_data"
    }
   ],
   "source": [
    "plt.hist(X.iloc[7])"
   ]
  },
  {
   "cell_type": "code",
   "execution_count": 142,
   "metadata": {},
   "outputs": [
    {
     "data": {
      "text/plain": [
       "(array([18.,  8.,  9.,  6., 11., 15.,  9.,  7.,  8.,  9.]),\n",
       " array([  5.1806 ,  21.87054,  38.56048,  55.25042,  71.94036,  88.6303 ,\n",
       "        105.32024, 122.01018, 138.70012, 155.39006, 172.08   ]),\n",
       " <a list of 10 Patch objects>)"
      ]
     },
     "execution_count": 142,
     "metadata": {},
     "output_type": "execute_result"
    },
    {
     "data": {
      "image/png": "[encoded data removed]",
      "text/plain": [
       "<Figure size 432x288 with 1 Axes>"
      ]
     },
     "metadata": {
      "needs_background": "light"
     },
     "output_type": "display_data"
    }
   ],
   "source": [
    "plt.hist(X.iloc[8])"
   ]
  },
  {
   "cell_type": "code",
   "execution_count": 143,
   "metadata": {},
   "outputs": [
    {
     "data": {
      "text/plain": [
       "(array([12.,  7., 12., 10.,  9., 12., 12.,  9.,  9.,  8.]),\n",
       " array([  1.1581 ,  36.06529,  70.97248, 105.87967, 140.78686, 175.69405,\n",
       "        210.60124, 245.50843, 280.41562, 315.32281, 350.23   ]),\n",
       " <a list of 10 Patch objects>)"
      ]
     },
     "execution_count": 143,
     "metadata": {},
     "output_type": "execute_result"
    },
    {
     "data": {
      "image/png": "[encoded data removed]",
      "text/plain": [
       "<Figure size 432x288 with 1 Axes>"
      ]
     },
     "metadata": {
      "needs_background": "light"
     },
     "output_type": "display_data"
    }
   ],
   "source": [
    "plt.hist(X.iloc[9])"
   ]
  },
  {
   "cell_type": "code",
   "execution_count": 144,
   "metadata": {},
   "outputs": [],
   "source": [
    "from statsmodels.graphics.gofplots import qqplot\n",
    "from matplotlib import pyplot"
   ]
  },
  {
   "cell_type": "code",
   "execution_count": 145,
   "metadata": {},
   "outputs": [
    {
     "data": {
      "image/png": "[encoded data removed]",
      "text/plain": [
       "<Figure size 432x288 with 1 Axes>"
      ]
     },
     "metadata": {
      "needs_background": "light"
     },
     "output_type": "display_data"
    }
   ],
   "source": [
    "qqplot(X.iloc[0],line='s')\n",
    "pyplot.show()"
   ]
  },
  {
   "cell_type": "code",
   "execution_count": 146,
   "metadata": {},
   "outputs": [
    {
     "name": "stdout",
     "output_type": "stream",
     "text": [
      "consecutive mean and standard deviation values of 1st dataset for each sample:\n"
     ]
    },
    {
     "data": {
      "text/plain": [
       "[[130.99282899999997, 72.98327697792735],\n",
       " [43.45846699999999, 25.19970462730488],\n",
       " [143.75709200000006, 76.81609302414395],\n",
       " [103.4966876, 65.13418699985425],\n",
       " [86.15304300000004, 55.698602909561835],\n",
       " [103.57654009999996, 58.01378757948532],\n",
       " [80.45554299999999, 43.314700692982406],\n",
       " [107.33760099999998, 62.08759952990533],\n",
       " [82.35331299999999, 49.78512927748738],\n",
       " [170.32301099999992, 98.54138517901997]]"
      ]
     },
     "execution_count": 146,
     "metadata": {},
     "output_type": "execute_result"
    }
   ],
   "source": [
    "mean_std=[]\n",
    "for i in range(len(X)):\n",
    "    mean_std.append([np.mean(X.iloc[i]), np.std(X.iloc[i])])\n",
    "print(\"consecutive mean and standard deviation values of 1st dataset for each sample:\")\n",
    "mean_std"
   ]
  },
  {
   "cell_type": "code",
   "execution_count": 147,
   "metadata": {},
   "outputs": [
    {
     "data": {
      "text/plain": [
       "(array([ 1., 14.,  8., 14., 19., 15., 13.,  8.,  7.,  1.]),\n",
       " array([124.6  , 145.878, 167.156, 188.434, 209.712, 230.99 , 252.268,\n",
       "        273.546, 294.824, 316.102, 337.38 ]),\n",
       " <a list of 10 Patch objects>)"
      ]
     },
     "execution_count": 147,
     "metadata": {},
     "output_type": "execute_result"
    },
    {
     "data": {
      "image/png": "[encoded data removed]",
      "text/plain": [
       "<Figure size 432x288 with 1 Axes>"
      ]
     },
     "metadata": {
      "needs_background": "light"
     },
     "output_type": "display_data"
    }
   ],
   "source": [
    "plt.hist(Y.iloc[0])"
   ]
  },
  {
   "cell_type": "code",
   "execution_count": 148,
   "metadata": {},
   "outputs": [
    {
     "data": {
      "text/plain": [
       "(array([ 9.,  6., 19.,  9.,  6., 11.,  8., 12., 11.,  9.]),\n",
       " array([ 0.17076 ,  9.685684, 19.200608, 28.715532, 38.230456, 47.74538 ,\n",
       "        57.260304, 66.775228, 76.290152, 85.805076, 95.32    ]),\n",
       " <a list of 10 Patch objects>)"
      ]
     },
     "execution_count": 148,
     "metadata": {},
     "output_type": "execute_result"
    },
    {
     "data": {
      "image/png": "[encoded data removed]",
      "text/plain": [
       "<Figure size 432x288 with 1 Axes>"
      ]
     },
     "metadata": {
      "needs_background": "light"
     },
     "output_type": "display_data"
    }
   ],
   "source": [
    "plt.hist(Y.iloc[1])"
   ]
  },
  {
   "cell_type": "code",
   "execution_count": 149,
   "metadata": {},
   "outputs": [
    {
     "data": {
      "text/plain": [
       "(array([ 3.,  4.,  8., 17., 18., 16., 19.,  8.,  6.,  1.]),\n",
       " array([115.6  , 132.453, 149.306, 166.159, 183.012, 199.865, 216.718,\n",
       "        233.571, 250.424, 267.277, 284.13 ]),\n",
       " <a list of 10 Patch objects>)"
      ]
     },
     "execution_count": 149,
     "metadata": {},
     "output_type": "execute_result"
    },
    {
     "data": {
      "image/png": "[encoded data removed]",
      "text/plain": [
       "<Figure size 432x288 with 1 Axes>"
      ]
     },
     "metadata": {
      "needs_background": "light"
     },
     "output_type": "display_data"
    }
   ],
   "source": [
    "plt.hist(Y.iloc[2])"
   ]
  },
  {
   "cell_type": "code",
   "execution_count": 150,
   "metadata": {},
   "outputs": [
    {
     "data": {
      "text/plain": [
       "(array([ 1.,  1.,  8., 14., 16., 23., 17., 10.,  8.,  2.]),\n",
       " array([105.27 , 136.109, 166.948, 197.787, 228.626, 259.465, 290.304,\n",
       "        321.143, 351.982, 382.821, 413.66 ]),\n",
       " <a list of 10 Patch objects>)"
      ]
     },
     "execution_count": 150,
     "metadata": {},
     "output_type": "execute_result"
    },
    {
     "data": {
      "image/png": "[encoded data removed]",
      "text/plain": [
       "<Figure size 432x288 with 1 Axes>"
      ]
     },
     "metadata": {
      "needs_background": "light"
     },
     "output_type": "display_data"
    }
   ],
   "source": [
    "plt.hist(Y.iloc[3])"
   ]
  },
  {
   "cell_type": "code",
   "execution_count": 151,
   "metadata": {},
   "outputs": [
    {
     "data": {
      "text/plain": [
       "(array([ 3.,  5.,  9.,  9., 18., 21., 19., 10.,  2.,  4.]),\n",
       " array([142.62 , 167.544, 192.468, 217.392, 242.316, 267.24 , 292.164,\n",
       "        317.088, 342.012, 366.936, 391.86 ]),\n",
       " <a list of 10 Patch objects>)"
      ]
     },
     "execution_count": 151,
     "metadata": {},
     "output_type": "execute_result"
    },
    {
     "data": {
      "image/png": "[encoded data removed]",
      "text/plain": [
       "<Figure size 432x288 with 1 Axes>"
      ]
     },
     "metadata": {
      "needs_background": "light"
     },
     "output_type": "display_data"
    }
   ],
   "source": [
    "plt.hist(Y.iloc[4])"
   ]
  },
  {
   "cell_type": "code",
   "execution_count": 152,
   "metadata": {},
   "outputs": [
    {
     "data": {
      "text/plain": [
       "(array([ 3.,  2.,  4., 11., 20., 17., 16., 13.,  8.,  6.]),\n",
       " array([125.31 , 151.727, 178.144, 204.561, 230.978, 257.395, 283.812,\n",
       "        310.229, 336.646, 363.063, 389.48 ]),\n",
       " <a list of 10 Patch objects>)"
      ]
     },
     "execution_count": 152,
     "metadata": {},
     "output_type": "execute_result"
    },
    {
     "data": {
      "image/png": "[encoded data removed]",
      "text/plain": [
       "<Figure size 432x288 with 1 Axes>"
      ]
     },
     "metadata": {
      "needs_background": "light"
     },
     "output_type": "display_data"
    }
   ],
   "source": [
    "plt.hist(Y.iloc[5])"
   ]
  },
  {
   "cell_type": "code",
   "execution_count": 153,
   "metadata": {},
   "outputs": [
    {
     "data": {
      "text/plain": [
       "(array([ 1.,  6., 11., 25., 16., 15., 14.,  2.,  4.,  6.]),\n",
       " array([182.16 , 219.224, 256.288, 293.352, 330.416, 367.48 , 404.544,\n",
       "        441.608, 478.672, 515.736, 552.8  ]),\n",
       " <a list of 10 Patch objects>)"
      ]
     },
     "execution_count": 153,
     "metadata": {},
     "output_type": "execute_result"
    },
    {
     "data": {
      "image/png": "[encoded data removed]",
      "text/plain": [
       "<Figure size 432x288 with 1 Axes>"
      ]
     },
     "metadata": {
      "needs_background": "light"
     },
     "output_type": "display_data"
    }
   ],
   "source": [
    "plt.hist(Y.iloc[6])"
   ]
  },
  {
   "cell_type": "code",
   "execution_count": 154,
   "metadata": {},
   "outputs": [
    {
     "data": {
      "text/plain": [
       "(array([ 4.,  8., 11., 15., 19., 14., 11.,  9.,  4.,  5.]),\n",
       " array([118.91 , 133.733, 148.556, 163.379, 178.202, 193.025, 207.848,\n",
       "        222.671, 237.494, 252.317, 267.14 ]),\n",
       " <a list of 10 Patch objects>)"
      ]
     },
     "execution_count": 154,
     "metadata": {},
     "output_type": "execute_result"
    },
    {
     "data": {
      "image/png": "[encoded data removed]",
      "text/plain": [
       "<Figure size 432x288 with 1 Axes>"
      ]
     },
     "metadata": {
      "needs_background": "light"
     },
     "output_type": "display_data"
    }
   ],
   "source": [
    "plt.hist(Y.iloc[7])"
   ]
  },
  {
   "cell_type": "code",
   "execution_count": 155,
   "metadata": {},
   "outputs": [
    {
     "data": {
      "text/plain": [
       "(array([14., 11.,  3., 13.,  9., 11.,  8., 10., 12.,  9.]),\n",
       " array([  0.90513 ,  24.728617,  48.552104,  72.375591,  96.199078,\n",
       "        120.022565, 143.846052, 167.669539, 191.493026, 215.316513,\n",
       "        239.14    ]),\n",
       " <a list of 10 Patch objects>)"
      ]
     },
     "execution_count": 155,
     "metadata": {},
     "output_type": "execute_result"
    },
    {
     "data": {
      "image/png": "[encoded data removed]",
      "text/plain": [
       "<Figure size 432x288 with 1 Axes>"
      ]
     },
     "metadata": {
      "needs_background": "light"
     },
     "output_type": "display_data"
    }
   ],
   "source": [
    "plt.hist(Y.iloc[8])"
   ]
  },
  {
   "cell_type": "code",
   "execution_count": 156,
   "metadata": {},
   "outputs": [
    {
     "data": {
      "text/plain": [
       "(array([ 4.,  4., 16., 19., 15., 16., 11.,  9.,  2.,  4.]),\n",
       " array([177.6  , 202.235, 226.87 , 251.505, 276.14 , 300.775, 325.41 ,\n",
       "        350.045, 374.68 , 399.315, 423.95 ]),\n",
       " <a list of 10 Patch objects>)"
      ]
     },
     "execution_count": 156,
     "metadata": {},
     "output_type": "execute_result"
    },
    {
     "data": {
      "image/png": "[encoded data removed]",
      "text/plain": [
       "<Figure size 432x288 with 1 Axes>"
      ]
     },
     "metadata": {
      "needs_background": "light"
     },
     "output_type": "display_data"
    }
   ],
   "source": [
    "plt.hist(Y.iloc[9])"
   ]
  },
  {
   "cell_type": "code",
   "execution_count": 157,
   "metadata": {},
   "outputs": [
    {
     "name": "stdout",
     "output_type": "stream",
     "text": [
      "consecutive min and max values of 2nd dataset for each sample:\n"
     ]
    },
    {
     "data": {
      "text/plain": [
       "[[124.6, 337.38],\n",
       " [0.17076, 95.32],\n",
       " [115.6, 284.13],\n",
       " [105.27, 413.66],\n",
       " [142.62, 391.86],\n",
       " [125.31, 389.48],\n",
       " [182.16, 552.8],\n",
       " [118.91, 267.14],\n",
       " [0.9051299999999999, 239.14],\n",
       " [177.6, 423.95]]"
      ]
     },
     "execution_count": 157,
     "metadata": {},
     "output_type": "execute_result"
    }
   ],
   "source": [
    "min_max_Y=[]\n",
    "for i in range(len(Y)):\n",
    "    min_max_Y.append([np.min(Y.iloc[i]), np.max(Y.iloc[i])])\n",
    "print(\"consecutive min and max values of 2nd dataset for each sample:\")\n",
    "min_max_Y"
   ]
  },
  {
   "cell_type": "code",
   "execution_count": 158,
   "metadata": {},
   "outputs": [
    {
     "data": {
      "image/png": "[encoded data removed]",
      "text/plain": [
       "<Figure size 432x288 with 1 Axes>"
      ]
     },
     "metadata": {
      "needs_background": "light"
     },
     "output_type": "display_data"
    }
   ],
   "source": [
    "qqplot(Y.iloc[0],line='s')\n",
    "pyplot.show()"
   ]
  },
  {
   "cell_type": "code",
   "execution_count": 159,
   "metadata": {},
   "outputs": [
    {
     "name": "stdout",
     "output_type": "stream",
     "text": [
      "consecutive min and standard deviation values of 2nd dataset for each sample:\n"
     ]
    },
    {
     "data": {
      "text/plain": [
       "[[225.49199999999993, 46.00005560866204],\n",
       " [47.73649259999999, 27.573681276630822],\n",
       " [200.11899999999997, 33.86352815345737],\n",
       " [273.6412999999999, 57.75984847028255],\n",
       " [271.24430000000007, 51.99496487651473],\n",
       " [275.0513, 56.46244005805984],\n",
       " [358.2119999999998, 76.36980075920061],\n",
       " [190.11180000000007, 34.25862015259809],\n",
       " [119.30088330000001, 71.39630573308924],\n",
       " [291.866, 52.48498072782345]]"
      ]
     },
     "execution_count": 159,
     "metadata": {},
     "output_type": "execute_result"
    }
   ],
   "source": [
    "mean_std_Y=[]\n",
    "for i in range(len(Y)):\n",
    "    mean_std_Y.append([np.mean(Y.iloc[i]), np.std(Y.iloc[i])])\n",
    "print(\"consecutive min and standard deviation values of 2nd dataset for each sample:\")\n",
    "mean_std_Y"
   ]
  },
  {
   "cell_type": "code",
   "execution_count": null,
   "metadata": {},
   "outputs": [],
   "source": []
  }
 ],
 "metadata": {
  "kernelspec": {
   "display_name": "Python 3",
   "language": "python",
   "name": "python3"
  },
  "language_info": {
   "codemirror_mode": {
    "name": "ipython",
    "version": 3
   },
   "file_extension": ".py",
   "mimetype": "text/x-python",
   "name": "python",
   "nbconvert_exporter": "python",
   "pygments_lexer": "ipython3",
   "version": "3.7.0"
  }
 },
 "nbformat": 4,
 "nbformat_minor": 2
}
